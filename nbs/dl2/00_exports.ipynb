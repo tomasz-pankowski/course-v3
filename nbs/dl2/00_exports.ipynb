{
 "cells": [
  {
   "cell_type": "code",
   "execution_count": 1,
   "metadata": {},
   "outputs": [],
   "source": [
    "#export\n",
    "TEST = 'test'"
   ]
  },
  {
   "cell_type": "markdown",
   "metadata": {},
   "source": [
    "## Export"
   ]
  },
  {
   "cell_type": "code",
   "execution_count": 2,
   "metadata": {},
   "outputs": [
    {
     "name": "stdout",
     "output_type": "stream",
     "text": [
      "Converted 00_exports.ipynb to exp/nb_00.py\r\n"
     ]
    }
   ],
   "source": [
    "!python notebook2script.py 00_exports.ipynb"
   ]
  },
  {
   "cell_type": "markdown",
   "metadata": {},
   "source": [
    "### How it works:"
   ]
  },
  {
   "cell_type": "code",
   "execution_count": 3,
   "metadata": {},
   "outputs": [],
   "source": [
    "import json\n",
    "d = json.load(open('00_exports.ipynb','r'))['cells']"
   ]
  },
  {
   "cell_type": "code",
   "execution_count": 4,
   "metadata": {},
   "outputs": [
    {
     "data": {
      "text/plain": [
       "{'cell_type': 'code',\n",
       " 'execution_count': None,\n",
       " 'metadata': {},\n",
       " 'outputs': [],\n",
       " 'source': ['#export\\n', \"TEST = 'test'\"]}"
      ]
     },
     "execution_count": 4,
     "metadata": {},
     "output_type": "execute_result"
    }
   ],
   "source": [
    "d[0]"
   ]
  },
  {
   "cell_type": "code",
   "execution_count": 6,
   "metadata": {},
   "outputs": [
    {
     "data": {
      "text/plain": [
       "{'cells': [{'cell_type': 'code',\n",
       "   'execution_count': 1,\n",
       "   'metadata': {},\n",
       "   'outputs': [],\n",
       "   'source': ['#export\\n', \"TEST = 'test'\"]},\n",
       "  {'cell_type': 'markdown', 'metadata': {}, 'source': ['## Export']},\n",
       "  {'cell_type': 'code',\n",
       "   'execution_count': 2,\n",
       "   'metadata': {},\n",
       "   'outputs': [{'name': 'stdout',\n",
       "     'output_type': 'stream',\n",
       "     'text': ['Converted 00_exports.ipynb to exp/nb_00.py\\r\\n']}],\n",
       "   'source': ['!python notebook2script.py 00_exports.ipynb']},\n",
       "  {'cell_type': 'markdown', 'metadata': {}, 'source': ['### How it works:']},\n",
       "  {'cell_type': 'code',\n",
       "   'execution_count': 3,\n",
       "   'metadata': {},\n",
       "   'outputs': [],\n",
       "   'source': ['import json\\n',\n",
       "    \"d = json.load(open('00_exports.ipynb','r'))['cells']\"]},\n",
       "  {'cell_type': 'code',\n",
       "   'execution_count': 4,\n",
       "   'metadata': {},\n",
       "   'outputs': [{'data': {'text/plain': [\"{'cell_type': 'code',\\n\",\n",
       "       \" 'execution_count': None,\\n\",\n",
       "       \" 'metadata': {},\\n\",\n",
       "       \" 'outputs': [],\\n\",\n",
       "       ' \\'source\\': [\\'#export\\\\n\\', \"TEST = \\'test\\'\"]}']},\n",
       "     'execution_count': 4,\n",
       "     'metadata': {},\n",
       "     'output_type': 'execute_result'}],\n",
       "   'source': ['d[0]']},\n",
       "  {'cell_type': 'code',\n",
       "   'execution_count': 5,\n",
       "   'metadata': {},\n",
       "   'outputs': [{'data': {'text/plain': [\"{'cells': [{'cell_type': 'code',\\n\",\n",
       "       \"   'execution_count': None,\\n\",\n",
       "       \"   'metadata': {},\\n\",\n",
       "       \"   'outputs': [],\\n\",\n",
       "       '   \\'source\\': [\\'#export\\\\n\\', \"TEST = \\'test\\'\"]},\\n',\n",
       "       \"  {'cell_type': 'markdown', 'metadata': {}, 'source': ['## Export']},\\n\",\n",
       "       \"  {'cell_type': 'code',\\n\",\n",
       "       \"   'execution_count': None,\\n\",\n",
       "       \"   'metadata': {},\\n\",\n",
       "       \"   'outputs': [],\\n\",\n",
       "       \"   'source': ['!python notebook2script.py 00_exports.ipynb']},\\n\",\n",
       "       \"  {'cell_type': 'markdown', 'metadata': {}, 'source': ['### How it works:']},\\n\",\n",
       "       \"  {'cell_type': 'code',\\n\",\n",
       "       \"   'execution_count': None,\\n\",\n",
       "       \"   'metadata': {},\\n\",\n",
       "       \"   'outputs': [],\\n\",\n",
       "       \"   'source': ['import json\\\\n',\\n\",\n",
       "       '    \"d = json.load(open(\\'00_exports.ipynb\\',\\'r\\'))[\\'cells\\']\"]},\\n',\n",
       "       \"  {'cell_type': 'code',\\n\",\n",
       "       \"   'execution_count': None,\\n\",\n",
       "       \"   'metadata': {},\\n\",\n",
       "       \"   'outputs': [],\\n\",\n",
       "       \"   'source': ['d[0]']},\\n\",\n",
       "       \"  {'cell_type': 'code',\\n\",\n",
       "       \"   'execution_count': None,\\n\",\n",
       "       \"   'metadata': {},\\n\",\n",
       "       \"   'outputs': [],\\n\",\n",
       "       \"   'source': []}],\\n\",\n",
       "       \" 'metadata': {'kernelspec': {'display_name': 'Python 3',\\n\",\n",
       "       \"   'language': 'python',\\n\",\n",
       "       \"   'name': 'python3'}},\\n\",\n",
       "       \" 'nbformat': 4,\\n\",\n",
       "       \" 'nbformat_minor': 2}\"]},\n",
       "     'execution_count': 5,\n",
       "     'metadata': {},\n",
       "     'output_type': 'execute_result'}],\n",
       "   'source': [\"json.load(open('00_exports.ipynb','r'))\"]},\n",
       "  {'cell_type': 'code',\n",
       "   'execution_count': None,\n",
       "   'metadata': {},\n",
       "   'outputs': [],\n",
       "   'source': []}],\n",
       " 'metadata': {'kernelspec': {'display_name': 'Python 3',\n",
       "   'language': 'python',\n",
       "   'name': 'python3'},\n",
       "  'language_info': {'codemirror_mode': {'name': 'ipython', 'version': 3},\n",
       "   'file_extension': '.py',\n",
       "   'mimetype': 'text/x-python',\n",
       "   'name': 'python',\n",
       "   'nbconvert_exporter': 'python',\n",
       "   'pygments_lexer': 'ipython3',\n",
       "   'version': '3.6.7'}},\n",
       " 'nbformat': 4,\n",
       " 'nbformat_minor': 2}"
      ]
     },
     "execution_count": 6,
     "metadata": {},
     "output_type": "execute_result"
    }
   ],
   "source": [
    "json.load(open('00_exports.ipynb','r'))"
   ]
  },
  {
   "cell_type": "code",
   "execution_count": null,
   "metadata": {},
   "outputs": [],
   "source": []
  }
 ],
 "metadata": {
  "kernelspec": {
   "display_name": "Python 3",
   "language": "python",
   "name": "python3"
  },
  "language_info": {
   "codemirror_mode": {
    "name": "ipython",
    "version": 3
   },
   "file_extension": ".py",
   "mimetype": "text/x-python",
   "name": "python",
   "nbconvert_exporter": "python",
   "pygments_lexer": "ipython3",
   "version": "3.6.7"
  }
 },
 "nbformat": 4,
 "nbformat_minor": 2
}
